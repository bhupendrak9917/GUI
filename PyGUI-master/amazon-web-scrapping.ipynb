{
 "cells": [
  {
   "cell_type": "code",
   "execution_count": 2,
   "metadata": {},
   "outputs": [],
   "source": [
    "from selenium import webdriver\n",
    "from bs4 import BeautifulSoup\n",
    "import pandas as pd\n",
    "\n",
    "chromepath = r\"Chrome/chromedriver.exe\"\n",
    "driver = webdriver.Chrome(chromepath)\n",
    "\n",
    "driver.get(\"https://www.amazon.in/\")\n",
    "\n",
    "driver.find_element_by_id(\"twotabsearchtextbox\").send_keys(\"Mi 10\")\n",
    "\n",
    "driver.find_element_by_id(\"nav-search-submit-button\").click()\n",
    "\n",
    "Names =[]\n",
    "urls = []\n",
    "\n",
    "content = driver.page_source\n",
    "soup = BeautifulSoup(content)\n",
    "html = soup.prettify('utf-8')\n",
    "adata = soup.findAll([\"a\",\"span\"], class_ = [\"a-link-normal a-text-normal\",\"a-size-medium a-color-base a-text-normal\"])\n",
    "\n",
    "for x in adata:\n",
    "    a_href = x.get(\"href\")\n",
    "    a_text = x.getText()\n",
    "    urls.append(a_href)\n",
    "    Names.append(a_text)\n",
    "\n",
    "Name_new = []\n",
    "for i in Names:\n",
    "    Name_new.append(i.rstrip(\" \"))\n",
    "\n",
    "res_Name = []\n",
    "for i in Name_new:\n",
    "    if i not in res_Name:\n",
    "        res_Name.append(i)\n",
    "\n",
    "urls_new = []\n",
    "for i in urls:\n",
    "    if i is not None:\n",
    "        urls_new.append(i)\n",
    "\n",
    "a= []\n",
    "for i in range(len(res_Name)):\n",
    "    compLink = \"https://www.amazon.in\"+urls_new[i]\n",
    "    a.append(compLink)\n",
    "\n",
    "df = pd.DataFrame({\"Product Name\": res_Name, \"URL\":a})\n",
    "\n",
    "df\n",
    "\n",
    "df.to_csv(\"amazon-scrap.csv\")"
   ]
  },
  {
   "cell_type": "code",
   "execution_count": null,
   "metadata": {},
   "outputs": [],
   "source": []
  }
 ],
 "metadata": {
  "kernelspec": {
   "display_name": "Python 3",
   "language": "python",
   "name": "python3"
  },
  "language_info": {
   "codemirror_mode": {
    "name": "ipython",
    "version": 3
   },
   "file_extension": ".py",
   "mimetype": "text/x-python",
   "name": "python",
   "nbconvert_exporter": "python",
   "pygments_lexer": "ipython3",
   "version": "3.8.5"
  }
 },
 "nbformat": 4,
 "nbformat_minor": 4
}
