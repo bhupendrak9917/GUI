{
 "cells": [
  {
   "cell_type": "code",
   "execution_count": 1,
   "metadata": {},
   "outputs": [],
   "source": [
    "import requests\n",
    "from bs4 import BeautifulSoup\n",
    "import pandas as pd\n"
   ]
  },
  {
   "cell_type": "code",
   "execution_count": 2,
   "metadata": {},
   "outputs": [],
   "source": [
    "page = requests.get('https://www.flipkart.com/search?q=laptops+i5+10th+gen+dell')\n",
    "soup = BeautifulSoup(page.content,'html5lib')\n",
    "\n",
    "Laptop_Names = soup.find_all('div',class_='_4rR01T')\n",
    "Laptop_Details = soup.find_all('ul',class_='_1xgFaf')\n",
    "Laptop_star_ratings = soup.find_all('div',class_='_3LWZlK')\n",
    "Laptop_prices = soup.find_all('div',class_=\"_30jeq3 _1_WHN1\")"
   ]
  },
  {
   "cell_type": "code",
   "execution_count": 3,
   "metadata": {},
   "outputs": [],
   "source": [
    "reviews = ([i.text for i in Laptop_star_ratings[:24]])"
   ]
  },
  {
   "cell_type": "code",
   "execution_count": 4,
   "metadata": {},
   "outputs": [
    {
     "data": {
      "text/plain": [
       "['4.7',\n",
       " '3.6',\n",
       " '2.3',\n",
       " '4.1',\n",
       " '4.3',\n",
       " '4.6',\n",
       " '4.3',\n",
       " '4.3',\n",
       " '4.6',\n",
       " '3.8',\n",
       " '4.4',\n",
       " '4.7',\n",
       " '4.2',\n",
       " '4.2',\n",
       " '4.4',\n",
       " '4',\n",
       " '4',\n",
       " '3.8',\n",
       " '4.3',\n",
       " '5',\n",
       " '5',\n",
       " '3.8',\n",
       " '4',\n",
       " '5']"
      ]
     },
     "execution_count": 4,
     "metadata": {},
     "output_type": "execute_result"
    }
   ],
   "source": [
    "reviews"
   ]
  },
  {
   "cell_type": "code",
   "execution_count": 8,
   "metadata": {},
   "outputs": [
    {
     "data": {
      "text/html": [
       "<div>\n",
       "<style scoped>\n",
       "    .dataframe tbody tr th:only-of-type {\n",
       "        vertical-align: middle;\n",
       "    }\n",
       "\n",
       "    .dataframe tbody tr th {\n",
       "        vertical-align: top;\n",
       "    }\n",
       "\n",
       "    .dataframe thead th {\n",
       "        text-align: right;\n",
       "    }\n",
       "</style>\n",
       "<table border=\"1\" class=\"dataframe\">\n",
       "  <thead>\n",
       "    <tr style=\"text-align: right;\">\n",
       "      <th></th>\n",
       "      <th>Laptop_Names</th>\n",
       "      <th>Laptop_Details</th>\n",
       "      <th>Laptop_prices</th>\n",
       "      <th>Laptop_star_ratings</th>\n",
       "    </tr>\n",
       "  </thead>\n",
       "  <tbody>\n",
       "    <tr>\n",
       "      <th>0</th>\n",
       "      <td>DELL G15 Core i5 10th Gen - (8 GB/512 GB SSD/W...</td>\n",
       "      <td>NVIDIA GeForce GTX 165015.6 inches Full HD, 2-...</td>\n",
       "      <td>₹60,990</td>\n",
       "      <td>4.7</td>\n",
       "    </tr>\n",
       "    <tr>\n",
       "      <th>1</th>\n",
       "      <td>DELL Inspiron 7000 Core i5 10th Gen - (8 GB/51...</td>\n",
       "      <td>Intel Core i5 Processor (10th Gen)8 GB DDR4 RA...</td>\n",
       "      <td>₹69,990</td>\n",
       "      <td>3.6</td>\n",
       "    </tr>\n",
       "    <tr>\n",
       "      <th>2</th>\n",
       "      <td>DELL G15 Core i5 10th Gen - (8 GB/512 GB SSD/W...</td>\n",
       "      <td>NVIDIA GeForce GTX 165015.6 inches Full HD, 2-...</td>\n",
       "      <td>₹65,290</td>\n",
       "      <td>2.3</td>\n",
       "    </tr>\n",
       "    <tr>\n",
       "      <th>3</th>\n",
       "      <td>DELL G15 Core i5 10th Gen - (16 GB/512 GB SSD/...</td>\n",
       "      <td>NVIDIA GeForce GTX 165015.6 inches Full HD, 2-...</td>\n",
       "      <td>₹69,790</td>\n",
       "      <td>4.1</td>\n",
       "    </tr>\n",
       "    <tr>\n",
       "      <th>4</th>\n",
       "      <td>DELL G15 Core i5 10th Gen - (16 GB/512 GB SSD/...</td>\n",
       "      <td>NVIDIA GeForce GTX 165015.6 inches Full HD, 2-...</td>\n",
       "      <td>₹76,990</td>\n",
       "      <td>4.3</td>\n",
       "    </tr>\n",
       "  </tbody>\n",
       "</table>\n",
       "</div>"
      ],
      "text/plain": [
       "                                        Laptop_Names  \\\n",
       "0  DELL G15 Core i5 10th Gen - (8 GB/512 GB SSD/W...   \n",
       "1  DELL Inspiron 7000 Core i5 10th Gen - (8 GB/51...   \n",
       "2  DELL G15 Core i5 10th Gen - (8 GB/512 GB SSD/W...   \n",
       "3  DELL G15 Core i5 10th Gen - (16 GB/512 GB SSD/...   \n",
       "4  DELL G15 Core i5 10th Gen - (16 GB/512 GB SSD/...   \n",
       "\n",
       "                                      Laptop_Details Laptop_prices  \\\n",
       "0  NVIDIA GeForce GTX 165015.6 inches Full HD, 2-...       ₹60,990   \n",
       "1  Intel Core i5 Processor (10th Gen)8 GB DDR4 RA...       ₹69,990   \n",
       "2  NVIDIA GeForce GTX 165015.6 inches Full HD, 2-...       ₹65,290   \n",
       "3  NVIDIA GeForce GTX 165015.6 inches Full HD, 2-...       ₹69,790   \n",
       "4  NVIDIA GeForce GTX 165015.6 inches Full HD, 2-...       ₹76,990   \n",
       "\n",
       "  Laptop_star_ratings  \n",
       "0                 4.7  \n",
       "1                 3.6  \n",
       "2                 2.3  \n",
       "3                 4.1  \n",
       "4                 4.3  "
      ]
     },
     "execution_count": 8,
     "metadata": {},
     "output_type": "execute_result"
    }
   ],
   "source": [
    "df = pd.DataFrame({\"Laptop_Names\":[name.text for name in Laptop_Names],\"Laptop_Details\":[details.text for details in Laptop_Details],\"Laptop_prices\":[i.text for i in Laptop_prices],\"Laptop_star_ratings\":[i for i in reviews]})\n",
    "df.head()"
   ]
  },
  {
   "cell_type": "code",
   "execution_count": 9,
   "metadata": {},
   "outputs": [],
   "source": [
    "df.to_excel('flipcart_laptop_data2.xlsx')"
   ]
  },
  {
   "cell_type": "code",
   "execution_count": null,
   "metadata": {},
   "outputs": [],
   "source": []
  }
 ],
 "metadata": {
  "kernelspec": {
   "display_name": "Python 3",
   "language": "python",
   "name": "python3"
  },
  "language_info": {
   "codemirror_mode": {
    "name": "ipython",
    "version": 3
   },
   "file_extension": ".py",
   "mimetype": "text/x-python",
   "name": "python",
   "nbconvert_exporter": "python",
   "pygments_lexer": "ipython3",
   "version": "3.8.5"
  }
 },
 "nbformat": 4,
 "nbformat_minor": 4
}
