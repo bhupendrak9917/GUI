{
 "cells": [
  {
   "cell_type": "code",
   "execution_count": 14,
   "metadata": {},
   "outputs": [],
   "source": [
    "from selenium import webdriver\n",
    "from bs4 import BeautifulSoup\n",
    "import pandas as pd\n",
    "\n",
    "chromepath=r\"chromedriver.exe\"\n",
    "driver= webdriver.Chrome(chromepath)\n",
    "\n",
    "Names=[]\n",
    "urls=[]\n",
    "driver.get('https://www.youtube.com/feed/trending')\n",
    "\n",
    "\n",
    "\n",
    "content=driver.page_source\n",
    "soup = BeautifulSoup(content)\n",
    "html = soup.prettify('utf-8')\n",
    "ytData = soup.findAll(\"a\", class_ = \"yt-simple-endpoint style-scope ytd-video-renderer\")\n",
    "for x in ytData:\n",
    "    yt_href = x.get('href')\n",
    "    yt_name = x.get('title')\n",
    "    Names.append(yt_name)\n",
    "    urls.append(yt_href)\n",
    "\n",
    "\n",
    "\n",
    "a=[]\n",
    "for i in range(len(urls)):\n",
    "    compLink = 'https://www.youtube.com'+urls[i]\n",
    "    a.append(compLink)\n",
    "\n",
    "\n",
    "\n",
    "df=pd.DataFrame({'Video Title': Names,'URL':a})\n"
   ]
  },
  {
   "cell_type": "code",
   "execution_count": 15,
   "metadata": {},
   "outputs": [
    {
     "data": {
      "text/html": [
       "<div>\n",
       "<style scoped>\n",
       "    .dataframe tbody tr th:only-of-type {\n",
       "        vertical-align: middle;\n",
       "    }\n",
       "\n",
       "    .dataframe tbody tr th {\n",
       "        vertical-align: top;\n",
       "    }\n",
       "\n",
       "    .dataframe thead th {\n",
       "        text-align: right;\n",
       "    }\n",
       "</style>\n",
       "<table border=\"1\" class=\"dataframe\">\n",
       "  <thead>\n",
       "    <tr style=\"text-align: right;\">\n",
       "      <th></th>\n",
       "      <th>Video Title</th>\n",
       "      <th>URL</th>\n",
       "    </tr>\n",
       "  </thead>\n",
       "  <tbody>\n",
       "    <tr>\n",
       "      <th>0</th>\n",
       "      <td>Alitho Saradaga Latest Episode Promo | Most Lo...</td>\n",
       "      <td>https://www.youtube.com/watch?v=zSFBdWMmrEs</td>\n",
       "    </tr>\n",
       "    <tr>\n",
       "      <th>1</th>\n",
       "      <td>Finally Bought A House || My New Home Tour || ...</td>\n",
       "      <td>https://www.youtube.com/watch?v=ACUr4yfS3PY</td>\n",
       "    </tr>\n",
       "    <tr>\n",
       "      <th>2</th>\n",
       "      <td>Madhuppriya Bathukamma Song 2021 | Latest Bath...</td>\n",
       "      <td>https://www.youtube.com/watch?v=n1J_eAwaEBI</td>\n",
       "    </tr>\n",
       "  </tbody>\n",
       "</table>\n",
       "</div>"
      ],
      "text/plain": [
       "                                         Video Title  \\\n",
       "0  Alitho Saradaga Latest Episode Promo | Most Lo...   \n",
       "1  Finally Bought A House || My New Home Tour || ...   \n",
       "2  Madhuppriya Bathukamma Song 2021 | Latest Bath...   \n",
       "\n",
       "                                           URL  \n",
       "0  https://www.youtube.com/watch?v=zSFBdWMmrEs  \n",
       "1  https://www.youtube.com/watch?v=ACUr4yfS3PY  \n",
       "2  https://www.youtube.com/watch?v=n1J_eAwaEBI  "
      ]
     },
     "execution_count": 15,
     "metadata": {},
     "output_type": "execute_result"
    }
   ],
   "source": [
    "df"
   ]
  },
  {
   "cell_type": "code",
   "execution_count": null,
   "metadata": {},
   "outputs": [],
   "source": []
  }
 ],
 "metadata": {
  "kernelspec": {
   "display_name": "Python 3 (ipykernel)",
   "language": "python",
   "name": "python3"
  },
  "language_info": {
   "codemirror_mode": {
    "name": "ipython",
    "version": 3
   },
   "file_extension": ".py",
   "mimetype": "text/x-python",
   "name": "python",
   "nbconvert_exporter": "python",
   "pygments_lexer": "ipython3",
   "version": "3.9.7"
  }
 },
 "nbformat": 4,
 "nbformat_minor": 4
}
