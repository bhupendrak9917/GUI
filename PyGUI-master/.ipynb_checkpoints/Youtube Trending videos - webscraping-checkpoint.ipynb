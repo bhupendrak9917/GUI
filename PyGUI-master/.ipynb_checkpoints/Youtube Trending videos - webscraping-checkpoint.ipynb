{
 "cells": [
  {
   "cell_type": "code",
   "execution_count": null,
   "metadata": {},
   "outputs": [],
   "source": [
    "from selenium import webdriver\n",
    "from bs4 import BeautifulSoup\n",
    "import pandas as pd\n",
    "\n",
    "chromepath=r\"C:\\Users\\ROSHAN\\Documents\\Python Scripts\\WebScraping\\Job Auto Login\\chromedriver.exe\"\n",
    "driver= webdriver.Chrome(chromepath)\n",
    "\n",
    "\n"
   ]
  },
  {
   "cell_type": "code",
   "execution_count": null,
   "metadata": {},
   "outputs": [],
   "source": [
    "Names=[]\n",
    "urls=[]\n",
    "driver.get('https://www.youtube.com/feed/trending')\n",
    "\n",
    "content=driver.page_source\n",
    "soup = BeautifulSoup(content)\n",
    "html = soup.prettify('utf-8')\n",
    "ytData = soup.findAll(\"a\", class_ = \"yt-simple-endpoint style-scope ytd-video-renderer\")\n",
    "for x in ytData:\n",
    "    yt_href = x.get('href')\n",
    "    yt_name = x.get('title')\n",
    "    Names.append(yt_name)\n",
    "    urls.append(yt_href)\n",
    "\n",
    "a=[]\n",
    "for i in range(len(urls)):\n",
    "    compLink = 'https://www.youtube.com'+urls[i]\n",
    "    a.append(compLink)\n",
    "\n",
    "df=pd.DataFrame({'Video Title': Names,'URL':a})\n"
   ]
  },
  {
   "cell_type": "code",
   "execution_count": null,
   "metadata": {},
   "outputs": [],
   "source": [
    "df"
   ]
  }
 ],
 "metadata": {
  "kernelspec": {
   "display_name": "Python 3 (ipykernel)",
   "language": "python",
   "name": "python3"
  },
  "language_info": {
   "codemirror_mode": {
    "name": "ipython",
    "version": 3
   },
   "file_extension": ".py",
   "mimetype": "text/x-python",
   "name": "python",
   "nbconvert_exporter": "python",
   "pygments_lexer": "ipython3",
   "version": "3.9.7"
  }
 },
 "nbformat": 4,
 "nbformat_minor": 4
}
