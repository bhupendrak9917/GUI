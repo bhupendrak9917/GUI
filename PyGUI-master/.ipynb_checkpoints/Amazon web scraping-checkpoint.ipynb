{
 "cells": [
  {
   "cell_type": "code",
   "execution_count": 1,
   "metadata": {},
   "outputs": [],
   "source": [
    "from selenium import webdriver\n",
    "from bs4 import BeautifulSoup\n",
    "import pandas as pd\n",
    "\n",
    "chromepath=r\"C:\\Users\\ROSHAN\\Documents\\Python Scripts\\WebScraping\\Amazon web scraping\\chromedriver.exe\"\n",
    "driver= webdriver.Chrome(chromepath)"
   ]
  },
  {
   "cell_type": "code",
   "execution_count": 2,
   "metadata": {},
   "outputs": [],
   "source": [
    "driver.get('https://www.amazon.in/')"
   ]
  },
  {
   "cell_type": "code",
   "execution_count": 3,
   "metadata": {},
   "outputs": [],
   "source": [
    "#search for the mi 10 in search bar of amazon website\n",
    "driver.find_element_by_id(\"twotabsearchtextbox\").send_keys(\"Mi 10\")"
   ]
  },
  {
   "cell_type": "code",
   "execution_count": 4,
   "metadata": {},
   "outputs": [],
   "source": [
    "# click on search button\n",
    "driver.find_element_by_id(\"nav-search-submit-button\").click()"
   ]
  },
  {
   "cell_type": "code",
   "execution_count": 60,
   "metadata": {},
   "outputs": [],
   "source": [
    "#To get Name and url of the product we are using 2 classes as they are in different tags developed by amazon\n",
    "Names=[]\n",
    "urls=[]\n",
    "content=driver.page_source\n",
    "soup = BeautifulSoup(content)\n",
    "html = soup.prettify('utf-8')\n",
    "ytData = soup.findAll([\"a\",\"span\"], class_ = [\"a-link-normal a-text-normal\",\"a-size-medium a-color-base a-text-normal\"])\n",
    "for x in ytData:\n",
    "    yt_href = x.get('href')\n",
    "    az_text = x.getText()\n",
    "    urls.append(yt_href)\n",
    "    Names.append(az_text)\n",
    "    \n",
    "# azName = soup.findAll(\"span\",class_ = \"a-size-medium a-color-base a-text-normal\")\n",
    "# for y in azName:\n",
    "#     az_text = y.getText()\n",
    "#     Names.append(az_text)"
   ]
  },
  {
   "cell_type": "markdown",
   "metadata": {},
   "source": [
    "Names"
   ]
  },
  {
   "cell_type": "code",
   "execution_count": 81,
   "metadata": {},
   "outputs": [
    {
     "data": {
      "text/plain": [
       "47"
      ]
     },
     "execution_count": 81,
     "metadata": {},
     "output_type": "execute_result"
    }
   ],
   "source": [
    "# check length of obtained names from website\n",
    "len(Names)"
   ]
  },
  {
   "cell_type": "code",
   "execution_count": 78,
   "metadata": {},
   "outputs": [
    {
     "data": {
      "text/plain": [
       "['Redmi 10 Prime (Bifrost Blue 4GB RAM 64GB ROM |Helio G88 with extendable RAM Upto 2GB |FHD+ 90Hz Adaptive Sync Display) ',\n",
       " 'Redmi 10 Prime (Bifrost Blue 4GB RAM 64GB ROM |Helio G88 with extendable RAM Upto 2GB |FHD+ 90Hz Adaptive Sync Display)',\n",
       " '(Renewed) Mi 10 (Coral Green, 8GB RAM, 128GB Storage) - 108MP Quad Camera, SD 865 Processor, 5G Ready ',\n",
       " '(Renewed) Mi 10 (Coral Green, 8GB RAM, 128GB Storage) - 108MP Quad Camera, SD 865 Processor, 5G Ready',\n",
       " 'Redmi Note 10 (Aqua Green, 4GB RAM, 64GB Storage) ',\n",
       " 'Redmi Note 10 (Aqua Green, 4GB RAM, 64GB Storage)',\n",
       " 'Samsung Galaxy Note 20 Ultra 5G (Mystic Black, 12GB RAM, 256GB Storage) with No Cost EMI/Additional Exchange Offers ',\n",
       " 'Mi 10 (Coral Green, 8GB RAM, 256GB Storage) - 108MP Quad Camera, SD 865 Processor, 5G Ready ',\n",
       " 'OPPO Find X2 (Ocean, 12GB RAM, 256GB Storage) with No Cost EMI/Additional bank Offers ',\n",
       " 'Mi 10i 5G (Midnight Black, 6GB RAM, 128GB Storage) - 108MP Quad Camera | Snapdragon 750G Processor ',\n",
       " 'Mi 10i 5G (Midnight Black, 6GB RAM, 128GB Storage) - 108MP Quad Camera | Snapdragon 750G Processor',\n",
       " 'Mi 10i 5G (Atlantic Blue, 6GB RAM, 128GB Storage) - 108MP Quad Camera | Snapdragon 750G Processor ',\n",
       " 'Mi 10i 5G (Atlantic Blue, 6GB RAM, 128GB Storage) - 108MP Quad Camera | Snapdragon 750G Processor',\n",
       " '(Renewed) Mi 11X Pro 5G (Celestial Silver, 8GB RAM, 128GB Storage) | Snapdragon 888 | 108MP Camera ',\n",
       " '(Renewed) Mi 11X Pro 5G (Celestial Silver, 8GB RAM, 128GB Storage) | Snapdragon 888 | 108MP Camera',\n",
       " '(Renewed) Mi 10T Pro 5G (Cosmic Black, 8GB RAM, 128GB Storage) ',\n",
       " '(Renewed) Mi 10T Pro 5G (Cosmic Black, 8GB RAM, 128GB Storage)',\n",
       " '(Renewed) Mi 10T 5G (Cosmic Black, 8GB RAM, 128GB Storage) ',\n",
       " '(Renewed) Mi 10T 5G (Cosmic Black, 8GB RAM, 128GB Storage)',\n",
       " 'Samsung Galaxy M52 5G (ICY Blue, 6GB RAM, 128GB Storage) Latest Snapdragon 778G 5G | sAMOLED 120Hz Display | 10% Off on HDFC Cards ',\n",
       " 'Samsung Galaxy M52 5G (ICY Blue, 6GB RAM, 128GB Storage) Latest Snapdragon 778G 5G | sAMOLED 120Hz Display | 10% Off on HDFC Cards',\n",
       " 'I KALL Z3 Smartphone (4GB, 32GB), Purple ',\n",
       " 'I KALL Z3 Smartphone (4GB, 32GB), Purple',\n",
       " 'Samsung Galaxy M32 (Black, 4GB RAM, 64GB Storage) 6 Months Free Screen Replacement for Prime ',\n",
       " 'Samsung Galaxy M32 (Black, 4GB RAM, 64GB Storage) 6 Months Free Screen Replacement for Prime',\n",
       " 'Mi 11X 5G (Lunar White 8GB RAM 128GB ROM | SD 870 | DisplayMate A+ rated E4 AMOLED) ',\n",
       " 'Mi 11X 5G (Lunar White 8GB RAM 128GB ROM | SD 870 | DisplayMate A+ rated E4 AMOLED)',\n",
       " 'MI 11X 5G (Cosmic Black 8GB RAM 128GB ROM | SD 870 | DisplayMate A+ rated E4 AMOLED) ',\n",
       " 'MI 11X 5G (Cosmic Black 8GB RAM 128GB ROM | SD 870 | DisplayMate A+ rated E4 AMOLED)',\n",
       " 'Mi 11X 5G Cosmic Black 6GB RAM 128GB ROM | SD 870 | DisplayMate A+ rated E4 AMOLED | Upto 18 Months No Cost EMI | Additional 5000 Off on Exchange ',\n",
       " 'Mi 11X 5G Cosmic Black 6GB RAM 128GB ROM | SD 870 | DisplayMate A+ rated E4 AMOLED | Upto 18 Months No Cost EMI | Additional 5000 Off on Exchange',\n",
       " 'Mi 11X 5G (Lunar White 6GB RAM 128GB ROM | SD 870 | DisplayMate A+ rated E4 AMOLED | Upto 18 Months No Cost EMI | Additional 5000 Off on Exchange) ',\n",
       " 'Mi 11X 5G (Lunar White 6GB RAM 128GB ROM | SD 870 | DisplayMate A+ rated E4 AMOLED | Upto 18 Months No Cost EMI | Additional 5000 Off on Exchange)',\n",
       " 'Mi 11X 5G (Celestial Silver 8GB RAM 128GB ROM | SD 870 | DisplayMate A+ rated E4 AMOLED | Upto 18 Months No Cost EMI | Additional 5000 Off on Exchange) ',\n",
       " 'Mi 11X 5G (Celestial Silver 8GB RAM 128GB ROM | SD 870 | DisplayMate A+ rated E4 AMOLED | Upto 18 Months No Cost EMI | Additional 5000 Off on Exchange)',\n",
       " 'Redmi 9 Power (Mighty Black 4GB RAM 64GB Storage) - 6000mAh Battery |FHD+ Screen | 48MP Quad Camera | Alexa Hands-Free Capable ',\n",
       " 'Redmi 9 Power (Mighty Black 4GB RAM 64GB Storage) - 6000mAh Battery |FHD+ Screen | 48MP Quad Camera | Alexa Hands-Free Capable',\n",
       " 'Mi 11X Pro 5G (Celestial Silver, 8GB RAM, 128GB Storage) | Snapdragon 888 | 108MP Camera | 6 Month Free Screen Replacement for Prime | Additional 5000 Off on Exchange ',\n",
       " 'Mi 11X Pro 5G (Celestial Silver, 8GB RAM, 128GB Storage) | Snapdragon 888 | 108MP Camera | 6 Month Free Screen Replacement for Prime | Additional 5000 Off on Exchange',\n",
       " 'OPPO A55 (Rainbow Blue, 4GB RAM, 64GB Storage) | Rs. 3000 HDFC Discount | Get Complimentary 3 Months Prime Membership ',\n",
       " 'OPPO A55 (Rainbow Blue, 4GB RAM, 64GB Storage) | Rs. 3000 HDFC Discount | Get Complimentary 3 Months Prime Membership',\n",
       " 'I KALL Z2 Smartphone (4GB, 32GB), Blue ',\n",
       " 'I KALL Z2 Smartphone (4GB, 32GB), Blue',\n",
       " 'I KALL K500 Smartphone (4GB, 64GB, Dual Sim) (Blue) ',\n",
       " 'I KALL K500 Smartphone (4GB, 64GB, Dual Sim) (Blue)',\n",
       " 'OPPO A74 5G (Fantastic Purple,6GB RAM,128GB Storage) - 5G Android Smartphone | 5000 mAh Battery | 18W Fast Charge | 90Hz LCD Display ',\n",
       " 'OPPO A74 5G (Fantastic Purple,6GB RAM,128GB Storage) - 5G Android Smartphone | 5000 mAh Battery | 18W Fast Charge | 90Hz LCD Display']"
      ]
     },
     "execution_count": 78,
     "metadata": {},
     "output_type": "execute_result"
    }
   ],
   "source": [
    "#print names\n",
    "Names"
   ]
  },
  {
   "cell_type": "code",
   "execution_count": 66,
   "metadata": {},
   "outputs": [],
   "source": [
    "#you can see the names contains duplicates as some of them are added \" \" at the end of it , you need to split them\n",
    "Name_new=[]\n",
    "for i in Names:\n",
    "    Name_new.append(i.rstrip(\" \"))\n"
   ]
  },
  {
   "cell_type": "code",
   "execution_count": 80,
   "metadata": {},
   "outputs": [],
   "source": [
    "# remove duplicates of names\n",
    "res_Name = []\n",
    "for i in Name_new:\n",
    "    if i not in res_Name:\n",
    "        res_Name.append(i)"
   ]
  },
  {
   "cell_type": "code",
   "execution_count": 83,
   "metadata": {},
   "outputs": [
    {
     "data": {
      "text/plain": [
       "25"
      ]
     },
     "execution_count": 83,
     "metadata": {},
     "output_type": "execute_result"
    }
   ],
   "source": [
    "#now check the length of names\n",
    "len(res_Name)"
   ]
  },
  {
   "cell_type": "code",
   "execution_count": 79,
   "metadata": {},
   "outputs": [
    {
     "data": {
      "text/plain": [
       "['/Redmi-10-Prime-extendable-Adaptive/dp/B09CTZ1WFP/ref=sr_1_1?dchild=1&keywords=Mi+10&qid=1633515323&qsid=262-5720523-6415153&sr=8-1&sres=B09CTZ1WFP%2CB08C9PFYXH%2CB089MT36T8%2CB089MS8WGB%2CB089MVC437%2CB099SZ7S99%2CB08R1KGLYM%2CB08X7BN8BC%2CB096VDG9QV%2CB085J18G66%2CB085J1DRPG%2CB085J1QWFV%2CB085J1QN6Z%2CB085J1MVWM%2CB089MS7D8F%2CB085J1KCGQ&srpt=CELLULAR_PHONE',\n",
       " None,\n",
       " '/Renewed-Mi-Coral-Green-Storage/dp/B08C9PFYXH/ref=sr_1_2?dchild=1&keywords=Mi+10&qid=1633515323&qsid=262-5720523-6415153&sr=8-2&sres=B09CTZ1WFP%2CB08C9PFYXH%2CB089MT36T8%2CB089MS8WGB%2CB089MVC437%2CB099SZ7S99%2CB08R1KGLYM%2CB08X7BN8BC%2CB096VDG9QV%2CB085J18G66%2CB085J1DRPG%2CB085J1QWFV%2CB085J1QN6Z%2CB085J1MVWM%2CB089MS7D8F%2CB085J1KCGQ&srpt=CELLULAR_PHONE',\n",
       " None,\n",
       " '/Test-Exclusive_2020_1140-Multi-3GB-Storage/dp/B089MT36T8/ref=sr_1_3?dchild=1&keywords=Mi+10&qid=1633515323&qsid=262-5720523-6415153&sr=8-3&sres=B09CTZ1WFP%2CB08C9PFYXH%2CB089MT36T8%2CB089MS8WGB%2CB089MVC437%2CB099SZ7S99%2CB08R1KGLYM%2CB08X7BN8BC%2CB096VDG9QV%2CB085J18G66%2CB085J1DRPG%2CB085J1QWFV%2CB085J1QN6Z%2CB085J1MVWM%2CB089MS7D8F%2CB085J1KCGQ&srpt=CELLULAR_PHONE',\n",
       " None,\n",
       " '/Samsung-Galaxy-Storage-Additional-Exchange/dp/B089MQ7C7V/ref=sxin_13?asc_contentid=amzn1.osa.aab1d723-6522-40df-896a-ec5fe68c6376.A21TJRUUN4KGV.en_IN&asc_contenttype=article&ascsubtag=amzn1.osa.aab1d723-6522-40df-896a-ec5fe68c6376.A21TJRUUN4KGV.en_IN&creativeASIN=B089MQ7C7V&cv_ct_cx=Mi+10&cv_ct_id=amzn1.osa.aab1d723-6522-40df-896a-ec5fe68c6376.A21TJRUUN4KGV.en_IN&cv_ct_pg=search&cv_ct_we=asin&cv_ct_wn=osp-single-source-pecos-desktop&dchild=1&keywords=Mi+10&linkCode=oas&pd_rd_i=B089MQ7C7V&pd_rd_r=2b3d24c5-bdae-4c83-b8ff-fd0d45b768a0&pd_rd_w=SCFIn&pd_rd_wg=JAARX&pf_rd_p=ad2dec93-45d4-46d7-9aa5-3db988563bfc&pf_rd_r=243Q43WXQA3BX7S7EVBT&qid=1633515323&sr=1-1-c84eb971-91f2-4a4d-acce-811265c24254&tag=digitin-21',\n",
       " '/Test-A6010-Dummy-Asin_42/dp/B07X4R4F4G/ref=sxin_13?asc_contentid=amzn1.osa.aab1d723-6522-40df-896a-ec5fe68c6376.A21TJRUUN4KGV.en_IN&asc_contenttype=article&ascsubtag=amzn1.osa.aab1d723-6522-40df-896a-ec5fe68c6376.A21TJRUUN4KGV.en_IN&creativeASIN=B07X4R4F4G&cv_ct_cx=Mi+10&cv_ct_id=amzn1.osa.aab1d723-6522-40df-896a-ec5fe68c6376.A21TJRUUN4KGV.en_IN&cv_ct_pg=search&cv_ct_we=asin&cv_ct_wn=osp-single-source-pecos-desktop&dchild=1&keywords=Mi+10&linkCode=oas&pd_rd_i=B07X4R4F4G&pd_rd_r=2b3d24c5-bdae-4c83-b8ff-fd0d45b768a0&pd_rd_w=SCFIn&pd_rd_wg=JAARX&pf_rd_p=ad2dec93-45d4-46d7-9aa5-3db988563bfc&pf_rd_r=243Q43WXQA3BX7S7EVBT&qid=1633515323&sr=1-2-c84eb971-91f2-4a4d-acce-811265c24254&tag=digitin-21',\n",
       " '/Ocean-256GB-Storage-Additional-Offers/dp/B08695Z3GR/ref=sxin_13?asc_contentid=amzn1.osa.aab1d723-6522-40df-896a-ec5fe68c6376.A21TJRUUN4KGV.en_IN&asc_contenttype=article&ascsubtag=amzn1.osa.aab1d723-6522-40df-896a-ec5fe68c6376.A21TJRUUN4KGV.en_IN&creativeASIN=B08695Z3GR&cv_ct_cx=Mi+10&cv_ct_id=amzn1.osa.aab1d723-6522-40df-896a-ec5fe68c6376.A21TJRUUN4KGV.en_IN&cv_ct_pg=search&cv_ct_we=asin&cv_ct_wn=osp-single-source-pecos-desktop&dchild=1&keywords=Mi+10&linkCode=oas&pd_rd_i=B08695Z3GR&pd_rd_r=2b3d24c5-bdae-4c83-b8ff-fd0d45b768a0&pd_rd_w=SCFIn&pd_rd_wg=JAARX&pf_rd_p=ad2dec93-45d4-46d7-9aa5-3db988563bfc&pf_rd_r=243Q43WXQA3BX7S7EVBT&qid=1633515323&sr=1-3-c84eb971-91f2-4a4d-acce-811265c24254&tag=digitin-21',\n",
       " '/Test-Exclusive_2020_1127-Multi-3GB-Storage/dp/B089MS8WGB/ref=sr_1_4?dchild=1&keywords=Mi+10&qid=1633515323&qsid=262-5720523-6415153&sr=8-4&sres=B09CTZ1WFP%2CB08C9PFYXH%2CB089MT36T8%2CB089MS8WGB%2CB089MVC437%2CB099SZ7S99%2CB08R1KGLYM%2CB08X7BN8BC%2CB096VDG9QV%2CB085J18G66%2CB085J1DRPG%2CB085J1QWFV%2CB085J1QN6Z%2CB085J1MVWM%2CB089MS7D8F%2CB085J1KCGQ&srpt=CELLULAR_PHONE',\n",
       " None,\n",
       " '/Test-Exclusive_2020_1128-Multi-3GB-Storage/dp/B089MVC437/ref=sr_1_5?dchild=1&keywords=Mi+10&qid=1633515323&qsid=262-5720523-6415153&sr=8-5&sres=B09CTZ1WFP%2CB08C9PFYXH%2CB089MT36T8%2CB089MS8WGB%2CB089MVC437%2CB099SZ7S99%2CB08R1KGLYM%2CB08X7BN8BC%2CB096VDG9QV%2CB085J18G66%2CB085J1DRPG%2CB085J1QWFV%2CB085J1QN6Z%2CB085J1MVWM%2CB089MS7D8F%2CB085J1KCGQ&srpt=CELLULAR_PHONE',\n",
       " None,\n",
       " '/Renewed-Mi-11X-Celestial-Snapdragon/dp/B099SZ7S99/ref=sr_1_6?dchild=1&keywords=Mi+10&qid=1633515323&qsid=262-5720523-6415153&sr=8-6&sres=B09CTZ1WFP%2CB08C9PFYXH%2CB089MT36T8%2CB089MS8WGB%2CB089MVC437%2CB099SZ7S99%2CB08R1KGLYM%2CB08X7BN8BC%2CB096VDG9QV%2CB085J18G66%2CB085J1DRPG%2CB085J1QWFV%2CB085J1QN6Z%2CB085J1MVWM%2CB089MS7D8F%2CB085J1KCGQ&srpt=CELLULAR_PHONE',\n",
       " None,\n",
       " '/Renewed-Cosmic-Black-128GB-Storage/dp/B08R1KGLYM/ref=sr_1_7?dchild=1&keywords=Mi+10&qid=1633515323&qsid=262-5720523-6415153&sr=8-7&sres=B09CTZ1WFP%2CB08C9PFYXH%2CB089MT36T8%2CB089MS8WGB%2CB089MVC437%2CB099SZ7S99%2CB08R1KGLYM%2CB08X7BN8BC%2CB096VDG9QV%2CB085J18G66%2CB085J1DRPG%2CB085J1QWFV%2CB085J1QN6Z%2CB085J1MVWM%2CB089MS7D8F%2CB085J1KCGQ&srpt=CELLULAR_PHONE',\n",
       " None,\n",
       " '/Renewed-Mi-Cosmic-Black-Storage/dp/B08X7BN8BC/ref=sr_1_8?dchild=1&keywords=Mi+10&qid=1633515323&qsid=262-5720523-6415153&sr=8-8&sres=B09CTZ1WFP%2CB08C9PFYXH%2CB089MT36T8%2CB089MS8WGB%2CB089MVC437%2CB099SZ7S99%2CB08R1KGLYM%2CB08X7BN8BC%2CB096VDG9QV%2CB085J18G66%2CB085J1DRPG%2CB085J1QWFV%2CB085J1QN6Z%2CB085J1MVWM%2CB089MS7D8F%2CB085J1KCGQ&srpt=CELLULAR_PHONE',\n",
       " None,\n",
       " '/gp/slredirect/picassoRedirect.html/ref=pa_sp_mtf_aps_sr_pg1_1?ie=UTF8&adId=A026325413S3D0ESOOG7A&url=%2FSamsung-Storage-Snapdragon-sAMOLED-Display%2Fdp%2FB09CV6FJ62%2Fref%3Dsr_1_9_sspa%3Fdchild%3D1%26keywords%3DMi%2B10%26qid%3D1633515323%26sr%3D8-9-spons%26psc%3D1&qualifier=1633515323&id=5262102996934323&widgetName=sp_mtf',\n",
       " None,\n",
       " '/gp/slredirect/picassoRedirect.html/ref=pa_sp_mtf_aps_sr_pg1_1?ie=UTF8&adId=A061919933V15IWXIVLYE&url=%2FKALL-Smartphone-4GB-32GB-Purple%2Fdp%2FB09H4S87V5%2Fref%3Dsr_1_10_sspa%3Fdchild%3D1%26keywords%3DMi%2B10%26qid%3D1633515323%26sr%3D8-10-spons%26psc%3D1&qualifier=1633515323&id=5262102996934323&widgetName=sp_mtf',\n",
       " None,\n",
       " '/Samsung-Galaxy-Storage-Months-Replacement/dp/B096VDG9QV/ref=sr_1_11?dchild=1&keywords=Mi+10&qid=1633515323&qsid=262-5720523-6415153&sr=8-11&sres=B09CTZ1WFP%2CB08C9PFYXH%2CB089MT36T8%2CB089MS8WGB%2CB089MVC437%2CB099SZ7S99%2CB08R1KGLYM%2CB08X7BN8BC%2CB096VDG9QV%2CB085J18G66%2CB085J1DRPG%2CB085J1QWFV%2CB085J1QN6Z%2CB085J1MVWM%2CB089MS7D8F%2CB085J1KCGQ&srpt=CELLULAR_PHONE',\n",
       " None,\n",
       " '/11X-Lunar-White-128GB-Storage/dp/B085J18G66/ref=sr_1_12?dchild=1&keywords=Mi+10&qid=1633515323&qsid=262-5720523-6415153&sr=8-12&sres=B09CTZ1WFP%2CB08C9PFYXH%2CB089MT36T8%2CB089MS8WGB%2CB089MVC437%2CB099SZ7S99%2CB08R1KGLYM%2CB08X7BN8BC%2CB096VDG9QV%2CB085J18G66%2CB085J1DRPG%2CB085J1QWFV%2CB085J1QN6Z%2CB085J1MVWM%2CB089MS7D8F%2CB085J1KCGQ&srpt=CELLULAR_PHONE',\n",
       " None,\n",
       " '/11X-Cosmic-Black-128GB-Storage/dp/B085J1DRPG/ref=sr_1_13?dchild=1&keywords=Mi+10&qid=1633515323&qsid=262-5720523-6415153&sr=8-13&sres=B09CTZ1WFP%2CB08C9PFYXH%2CB089MT36T8%2CB089MS8WGB%2CB089MVC437%2CB099SZ7S99%2CB08R1KGLYM%2CB08X7BN8BC%2CB096VDG9QV%2CB085J18G66%2CB085J1DRPG%2CB085J1QWFV%2CB085J1QN6Z%2CB085J1MVWM%2CB089MS7D8F%2CB085J1KCGQ&srpt=CELLULAR_PHONE',\n",
       " None,\n",
       " '/11X-Cosmic-Black-128GB-Storage/dp/B085J1QWFV/ref=sr_1_14?dchild=1&keywords=Mi+10&qid=1633515323&qsid=262-5720523-6415153&sr=8-14&sres=B09CTZ1WFP%2CB08C9PFYXH%2CB089MT36T8%2CB089MS8WGB%2CB089MVC437%2CB099SZ7S99%2CB08R1KGLYM%2CB08X7BN8BC%2CB096VDG9QV%2CB085J18G66%2CB085J1DRPG%2CB085J1QWFV%2CB085J1QN6Z%2CB085J1MVWM%2CB089MS7D8F%2CB085J1KCGQ&srpt=CELLULAR_PHONE',\n",
       " None,\n",
       " '/11X-Lunar-White-128GB-Storage/dp/B085J1QN6Z/ref=sr_1_15?dchild=1&keywords=Mi+10&qid=1633515323&qsid=262-5720523-6415153&sr=8-15&sres=B09CTZ1WFP%2CB08C9PFYXH%2CB089MT36T8%2CB089MS8WGB%2CB089MVC437%2CB099SZ7S99%2CB08R1KGLYM%2CB08X7BN8BC%2CB096VDG9QV%2CB085J18G66%2CB085J1DRPG%2CB085J1QWFV%2CB085J1QN6Z%2CB085J1MVWM%2CB089MS7D8F%2CB085J1KCGQ&srpt=CELLULAR_PHONE',\n",
       " None,\n",
       " '/11X-Celestial-Silver-128GB-Storage/dp/B085J1MVWM/ref=sr_1_16?dchild=1&keywords=Mi+10&qid=1633515323&qsid=262-5720523-6415153&sr=8-16&sres=B09CTZ1WFP%2CB08C9PFYXH%2CB089MT36T8%2CB089MS8WGB%2CB089MVC437%2CB099SZ7S99%2CB08R1KGLYM%2CB08X7BN8BC%2CB096VDG9QV%2CB085J18G66%2CB085J1DRPG%2CB085J1QWFV%2CB085J1QN6Z%2CB085J1MVWM%2CB089MS7D8F%2CB085J1KCGQ&srpt=CELLULAR_PHONE',\n",
       " None,\n",
       " '/Test-Exclusive_2020_1112-Multi-3GB-Storage/dp/B089MS7D8F/ref=sr_1_17?dchild=1&keywords=Mi+10&qid=1633515323&qsid=262-5720523-6415153&sr=8-17&sres=B09CTZ1WFP%2CB08C9PFYXH%2CB089MT36T8%2CB089MS8WGB%2CB089MVC437%2CB099SZ7S99%2CB08R1KGLYM%2CB08X7BN8BC%2CB096VDG9QV%2CB085J18G66%2CB085J1DRPG%2CB085J1QWFV%2CB085J1QN6Z%2CB085J1MVWM%2CB089MS7D8F%2CB085J1KCGQ&srpt=CELLULAR_PHONE',\n",
       " None,\n",
       " '/Mi11XPro-Celestial-Silver-128GB-Storage/dp/B085J1KCGQ/ref=sr_1_18?dchild=1&keywords=Mi+10&qid=1633515323&qsid=262-5720523-6415153&sr=8-18&sres=B09CTZ1WFP%2CB08C9PFYXH%2CB089MT36T8%2CB089MS8WGB%2CB089MVC437%2CB099SZ7S99%2CB08R1KGLYM%2CB08X7BN8BC%2CB096VDG9QV%2CB085J18G66%2CB085J1DRPG%2CB085J1QWFV%2CB085J1QN6Z%2CB085J1MVWM%2CB089MS7D8F%2CB085J1KCGQ&srpt=CELLULAR_PHONE',\n",
       " None,\n",
       " '/gp/slredirect/picassoRedirect.html/ref=pa_sp_btf_aps_sr_pg1_1?ie=UTF8&adId=A07383102Z7P58TNG09YW&url=%2FRainbow-Storage-Discount-Complimentary-Membership%2Fdp%2FB09H7HKVLL%2Fref%3Dsr_1_19_sspa%3Fdchild%3D1%26keywords%3DMi%2B10%26qid%3D1633515323%26sr%3D8-19-spons%26psc%3D1&qualifier=1633515323&id=5262102996934323&widgetName=sp_btf',\n",
       " None,\n",
       " '/gp/slredirect/picassoRedirect.html/ref=pa_sp_btf_aps_sr_pg1_1?ie=UTF8&adId=A061984719OUAKGHYM584&url=%2FKALL-Smartphone-4GB-32GB-Blue%2Fdp%2FB09H4TR5CG%2Fref%3Dsr_1_20_sspa%3Fdchild%3D1%26keywords%3DMi%2B10%26qid%3D1633515323%26sr%3D8-20-spons%26psc%3D1&qualifier=1633515323&id=5262102996934323&widgetName=sp_btf',\n",
       " None,\n",
       " '/gp/slredirect/picassoRedirect.html/ref=pa_sp_btf_aps_sr_pg1_1?ie=UTF8&adId=A06196912EMW0ABYECFQF&url=%2FKALL-K500-Smartphone-64GB-Blue%2Fdp%2FB09GXTV2PL%2Fref%3Dsr_1_21_sspa%3Fdchild%3D1%26keywords%3DMi%2B10%26qid%3D1633515323%26sr%3D8-21-spons%26psc%3D1&qualifier=1633515323&id=5262102996934323&widgetName=sp_btf',\n",
       " None,\n",
       " '/gp/slredirect/picassoRedirect.html/ref=pa_sp_btf_aps_sr_pg1_1?ie=UTF8&adId=A03203451PJS51LCV5CR0&url=%2FOPPO-Fantastic-Purple-128GB-Storage%2Fdp%2FB08VB34KJ1%2Fref%3Dsr_1_22_sspa%3Fdchild%3D1%26keywords%3DMi%2B10%26qid%3D1633515323%26sr%3D8-22-spons%26psc%3D1&qualifier=1633515323&id=5262102996934323&widgetName=sp_btf',\n",
       " None]"
      ]
     },
     "execution_count": 79,
     "metadata": {},
     "output_type": "execute_result"
    }
   ],
   "source": [
    "#print urls\n",
    "urls"
   ]
  },
  {
   "cell_type": "code",
   "execution_count": 84,
   "metadata": {},
   "outputs": [
    {
     "data": {
      "text/plain": [
       "47"
      ]
     },
     "execution_count": 84,
     "metadata": {},
     "output_type": "execute_result"
    }
   ],
   "source": [
    "#length of urls\n",
    "len(urls)"
   ]
  },
  {
   "cell_type": "code",
   "execution_count": 68,
   "metadata": {},
   "outputs": [],
   "source": [
    "# as some url are none.. we need to remove by using below code\n",
    "urls_new = []\n",
    "for i in urls:\n",
    "    if i is not None:\n",
    "        urls_new.append(i)"
   ]
  },
  {
   "cell_type": "code",
   "execution_count": 85,
   "metadata": {},
   "outputs": [
    {
     "data": {
      "text/plain": [
       "25"
      ]
     },
     "execution_count": 85,
     "metadata": {},
     "output_type": "execute_result"
    }
   ],
   "source": [
    "#length\n",
    "len(res_Name)"
   ]
  },
  {
   "cell_type": "code",
   "execution_count": 86,
   "metadata": {},
   "outputs": [
    {
     "data": {
      "text/html": [
       "<div>\n",
       "<style scoped>\n",
       "    .dataframe tbody tr th:only-of-type {\n",
       "        vertical-align: middle;\n",
       "    }\n",
       "\n",
       "    .dataframe tbody tr th {\n",
       "        vertical-align: top;\n",
       "    }\n",
       "\n",
       "    .dataframe thead th {\n",
       "        text-align: right;\n",
       "    }\n",
       "</style>\n",
       "<table border=\"1\" class=\"dataframe\">\n",
       "  <thead>\n",
       "    <tr style=\"text-align: right;\">\n",
       "      <th></th>\n",
       "      <th>Product Name</th>\n",
       "      <th>URL</th>\n",
       "    </tr>\n",
       "  </thead>\n",
       "  <tbody>\n",
       "    <tr>\n",
       "      <th>0</th>\n",
       "      <td>Redmi 10 Prime (Bifrost Blue 4GB RAM 64GB ROM ...</td>\n",
       "      <td>https://www.amazon.in/Redmi-10-Prime-extendabl...</td>\n",
       "    </tr>\n",
       "    <tr>\n",
       "      <th>1</th>\n",
       "      <td>(Renewed) Mi 10 (Coral Green, 8GB RAM, 128GB S...</td>\n",
       "      <td>https://www.amazon.in/Renewed-Mi-Coral-Green-S...</td>\n",
       "    </tr>\n",
       "    <tr>\n",
       "      <th>2</th>\n",
       "      <td>Redmi Note 10 (Aqua Green, 4GB RAM, 64GB Storage)</td>\n",
       "      <td>https://www.amazon.in/Test-Exclusive_2020_1140...</td>\n",
       "    </tr>\n",
       "    <tr>\n",
       "      <th>3</th>\n",
       "      <td>Samsung Galaxy Note 20 Ultra 5G (Mystic Black,...</td>\n",
       "      <td>https://www.amazon.in/Samsung-Galaxy-Storage-A...</td>\n",
       "    </tr>\n",
       "    <tr>\n",
       "      <th>4</th>\n",
       "      <td>Mi 10 (Coral Green, 8GB RAM, 256GB Storage) - ...</td>\n",
       "      <td>https://www.amazon.in/Test-A6010-Dummy-Asin_42...</td>\n",
       "    </tr>\n",
       "    <tr>\n",
       "      <th>5</th>\n",
       "      <td>OPPO Find X2 (Ocean, 12GB RAM, 256GB Storage) ...</td>\n",
       "      <td>https://www.amazon.in/Ocean-256GB-Storage-Addi...</td>\n",
       "    </tr>\n",
       "    <tr>\n",
       "      <th>6</th>\n",
       "      <td>Mi 10i 5G (Midnight Black, 6GB RAM, 128GB Stor...</td>\n",
       "      <td>https://www.amazon.in/Test-Exclusive_2020_1127...</td>\n",
       "    </tr>\n",
       "    <tr>\n",
       "      <th>7</th>\n",
       "      <td>Mi 10i 5G (Atlantic Blue, 6GB RAM, 128GB Stora...</td>\n",
       "      <td>https://www.amazon.in/Test-Exclusive_2020_1128...</td>\n",
       "    </tr>\n",
       "    <tr>\n",
       "      <th>8</th>\n",
       "      <td>(Renewed) Mi 11X Pro 5G (Celestial Silver, 8GB...</td>\n",
       "      <td>https://www.amazon.in/Renewed-Mi-11X-Celestial...</td>\n",
       "    </tr>\n",
       "    <tr>\n",
       "      <th>9</th>\n",
       "      <td>(Renewed) Mi 10T Pro 5G (Cosmic Black, 8GB RAM...</td>\n",
       "      <td>https://www.amazon.in/Renewed-Cosmic-Black-128...</td>\n",
       "    </tr>\n",
       "    <tr>\n",
       "      <th>10</th>\n",
       "      <td>(Renewed) Mi 10T 5G (Cosmic Black, 8GB RAM, 12...</td>\n",
       "      <td>https://www.amazon.in/Renewed-Mi-Cosmic-Black-...</td>\n",
       "    </tr>\n",
       "    <tr>\n",
       "      <th>11</th>\n",
       "      <td>Samsung Galaxy M52 5G (ICY Blue, 6GB RAM, 128G...</td>\n",
       "      <td>https://www.amazon.in/gp/slredirect/picassoRed...</td>\n",
       "    </tr>\n",
       "    <tr>\n",
       "      <th>12</th>\n",
       "      <td>I KALL Z3 Smartphone (4GB, 32GB), Purple</td>\n",
       "      <td>https://www.amazon.in/gp/slredirect/picassoRed...</td>\n",
       "    </tr>\n",
       "    <tr>\n",
       "      <th>13</th>\n",
       "      <td>Samsung Galaxy M32 (Black, 4GB RAM, 64GB Stora...</td>\n",
       "      <td>https://www.amazon.in/Samsung-Galaxy-Storage-M...</td>\n",
       "    </tr>\n",
       "    <tr>\n",
       "      <th>14</th>\n",
       "      <td>Mi 11X 5G (Lunar White 8GB RAM 128GB ROM | SD ...</td>\n",
       "      <td>https://www.amazon.in/11X-Lunar-White-128GB-St...</td>\n",
       "    </tr>\n",
       "    <tr>\n",
       "      <th>15</th>\n",
       "      <td>MI 11X 5G (Cosmic Black 8GB RAM 128GB ROM | SD...</td>\n",
       "      <td>https://www.amazon.in/11X-Cosmic-Black-128GB-S...</td>\n",
       "    </tr>\n",
       "    <tr>\n",
       "      <th>16</th>\n",
       "      <td>Mi 11X 5G Cosmic Black 6GB RAM 128GB ROM | SD ...</td>\n",
       "      <td>https://www.amazon.in/11X-Cosmic-Black-128GB-S...</td>\n",
       "    </tr>\n",
       "    <tr>\n",
       "      <th>17</th>\n",
       "      <td>Mi 11X 5G (Lunar White 6GB RAM 128GB ROM | SD ...</td>\n",
       "      <td>https://www.amazon.in/11X-Lunar-White-128GB-St...</td>\n",
       "    </tr>\n",
       "    <tr>\n",
       "      <th>18</th>\n",
       "      <td>Mi 11X 5G (Celestial Silver 8GB RAM 128GB ROM ...</td>\n",
       "      <td>https://www.amazon.in/11X-Celestial-Silver-128...</td>\n",
       "    </tr>\n",
       "    <tr>\n",
       "      <th>19</th>\n",
       "      <td>Redmi 9 Power (Mighty Black 4GB RAM 64GB Stora...</td>\n",
       "      <td>https://www.amazon.in/Test-Exclusive_2020_1112...</td>\n",
       "    </tr>\n",
       "    <tr>\n",
       "      <th>20</th>\n",
       "      <td>Mi 11X Pro 5G (Celestial Silver, 8GB RAM, 128G...</td>\n",
       "      <td>https://www.amazon.in/Mi11XPro-Celestial-Silve...</td>\n",
       "    </tr>\n",
       "    <tr>\n",
       "      <th>21</th>\n",
       "      <td>OPPO A55 (Rainbow Blue, 4GB RAM, 64GB Storage)...</td>\n",
       "      <td>https://www.amazon.in/gp/slredirect/picassoRed...</td>\n",
       "    </tr>\n",
       "    <tr>\n",
       "      <th>22</th>\n",
       "      <td>I KALL Z2 Smartphone (4GB, 32GB), Blue</td>\n",
       "      <td>https://www.amazon.in/gp/slredirect/picassoRed...</td>\n",
       "    </tr>\n",
       "    <tr>\n",
       "      <th>23</th>\n",
       "      <td>I KALL K500 Smartphone (4GB, 64GB, Dual Sim) (...</td>\n",
       "      <td>https://www.amazon.in/gp/slredirect/picassoRed...</td>\n",
       "    </tr>\n",
       "    <tr>\n",
       "      <th>24</th>\n",
       "      <td>OPPO A74 5G (Fantastic Purple,6GB RAM,128GB St...</td>\n",
       "      <td>https://www.amazon.in/gp/slredirect/picassoRed...</td>\n",
       "    </tr>\n",
       "  </tbody>\n",
       "</table>\n",
       "</div>"
      ],
      "text/plain": [
       "                                         Product Name  \\\n",
       "0   Redmi 10 Prime (Bifrost Blue 4GB RAM 64GB ROM ...   \n",
       "1   (Renewed) Mi 10 (Coral Green, 8GB RAM, 128GB S...   \n",
       "2   Redmi Note 10 (Aqua Green, 4GB RAM, 64GB Storage)   \n",
       "3   Samsung Galaxy Note 20 Ultra 5G (Mystic Black,...   \n",
       "4   Mi 10 (Coral Green, 8GB RAM, 256GB Storage) - ...   \n",
       "5   OPPO Find X2 (Ocean, 12GB RAM, 256GB Storage) ...   \n",
       "6   Mi 10i 5G (Midnight Black, 6GB RAM, 128GB Stor...   \n",
       "7   Mi 10i 5G (Atlantic Blue, 6GB RAM, 128GB Stora...   \n",
       "8   (Renewed) Mi 11X Pro 5G (Celestial Silver, 8GB...   \n",
       "9   (Renewed) Mi 10T Pro 5G (Cosmic Black, 8GB RAM...   \n",
       "10  (Renewed) Mi 10T 5G (Cosmic Black, 8GB RAM, 12...   \n",
       "11  Samsung Galaxy M52 5G (ICY Blue, 6GB RAM, 128G...   \n",
       "12           I KALL Z3 Smartphone (4GB, 32GB), Purple   \n",
       "13  Samsung Galaxy M32 (Black, 4GB RAM, 64GB Stora...   \n",
       "14  Mi 11X 5G (Lunar White 8GB RAM 128GB ROM | SD ...   \n",
       "15  MI 11X 5G (Cosmic Black 8GB RAM 128GB ROM | SD...   \n",
       "16  Mi 11X 5G Cosmic Black 6GB RAM 128GB ROM | SD ...   \n",
       "17  Mi 11X 5G (Lunar White 6GB RAM 128GB ROM | SD ...   \n",
       "18  Mi 11X 5G (Celestial Silver 8GB RAM 128GB ROM ...   \n",
       "19  Redmi 9 Power (Mighty Black 4GB RAM 64GB Stora...   \n",
       "20  Mi 11X Pro 5G (Celestial Silver, 8GB RAM, 128G...   \n",
       "21  OPPO A55 (Rainbow Blue, 4GB RAM, 64GB Storage)...   \n",
       "22             I KALL Z2 Smartphone (4GB, 32GB), Blue   \n",
       "23  I KALL K500 Smartphone (4GB, 64GB, Dual Sim) (...   \n",
       "24  OPPO A74 5G (Fantastic Purple,6GB RAM,128GB St...   \n",
       "\n",
       "                                                  URL  \n",
       "0   https://www.amazon.in/Redmi-10-Prime-extendabl...  \n",
       "1   https://www.amazon.in/Renewed-Mi-Coral-Green-S...  \n",
       "2   https://www.amazon.in/Test-Exclusive_2020_1140...  \n",
       "3   https://www.amazon.in/Samsung-Galaxy-Storage-A...  \n",
       "4   https://www.amazon.in/Test-A6010-Dummy-Asin_42...  \n",
       "5   https://www.amazon.in/Ocean-256GB-Storage-Addi...  \n",
       "6   https://www.amazon.in/Test-Exclusive_2020_1127...  \n",
       "7   https://www.amazon.in/Test-Exclusive_2020_1128...  \n",
       "8   https://www.amazon.in/Renewed-Mi-11X-Celestial...  \n",
       "9   https://www.amazon.in/Renewed-Cosmic-Black-128...  \n",
       "10  https://www.amazon.in/Renewed-Mi-Cosmic-Black-...  \n",
       "11  https://www.amazon.in/gp/slredirect/picassoRed...  \n",
       "12  https://www.amazon.in/gp/slredirect/picassoRed...  \n",
       "13  https://www.amazon.in/Samsung-Galaxy-Storage-M...  \n",
       "14  https://www.amazon.in/11X-Lunar-White-128GB-St...  \n",
       "15  https://www.amazon.in/11X-Cosmic-Black-128GB-S...  \n",
       "16  https://www.amazon.in/11X-Cosmic-Black-128GB-S...  \n",
       "17  https://www.amazon.in/11X-Lunar-White-128GB-St...  \n",
       "18  https://www.amazon.in/11X-Celestial-Silver-128...  \n",
       "19  https://www.amazon.in/Test-Exclusive_2020_1112...  \n",
       "20  https://www.amazon.in/Mi11XPro-Celestial-Silve...  \n",
       "21  https://www.amazon.in/gp/slredirect/picassoRed...  \n",
       "22  https://www.amazon.in/gp/slredirect/picassoRed...  \n",
       "23  https://www.amazon.in/gp/slredirect/picassoRed...  \n",
       "24  https://www.amazon.in/gp/slredirect/picassoRed...  "
      ]
     },
     "execution_count": 86,
     "metadata": {},
     "output_type": "execute_result"
    }
   ],
   "source": [
    "#combine them into dataframe\n",
    "a=[]\n",
    "for i in range(len(res_Name)):\n",
    "#     print(urls[i],type(urls[i]))\n",
    "    compLink = 'https://www.amazon.in'+urls_new[i]\n",
    "    a.append(compLink)\n",
    "\n",
    "df=pd.DataFrame({'Product Name': res_Name,'URL':a})\n",
    "df"
   ]
  },
  {
   "cell_type": "code",
   "execution_count": null,
   "metadata": {},
   "outputs": [],
   "source": []
  }
 ],
 "metadata": {
  "kernelspec": {
   "display_name": "Python 3 (ipykernel)",
   "language": "python",
   "name": "python3"
  },
  "language_info": {
   "codemirror_mode": {
    "name": "ipython",
    "version": 3
   },
   "file_extension": ".py",
   "mimetype": "text/x-python",
   "name": "python",
   "nbconvert_exporter": "python",
   "pygments_lexer": "ipython3",
   "version": "3.9.7"
  }
 },
 "nbformat": 4,
 "nbformat_minor": 4
}
